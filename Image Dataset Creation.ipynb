{
 "cells": [
  {
   "cell_type": "markdown",
   "id": "4ab73ce5",
   "metadata": {},
   "source": [
    "# Code to generate image data for Face Recognition Project"
   ]
  },
  {
   "cell_type": "markdown",
   "id": "a55b7a8a",
   "metadata": {},
   "source": [
    "### Importing libraries "
   ]
  },
  {
   "cell_type": "code",
   "execution_count": 1,
   "id": "e1aad49f",
   "metadata": {},
   "outputs": [],
   "source": [
    "import numpy as np\n",
    "import cv2"
   ]
  },
  {
   "cell_type": "code",
   "execution_count": 2,
   "id": "56b227d7",
   "metadata": {},
   "outputs": [],
   "source": [
    "# Loading HAAR face classifier\n",
    "face_classifier = cv2.CascadeClassifier('haarcascade_frontalface_default.xml')"
   ]
  },
  {
   "cell_type": "code",
   "execution_count": 3,
   "id": "11330e35",
   "metadata": {},
   "outputs": [],
   "source": [
    "# function to extract face data from image\n",
    "\n",
    "def face_extractor(img):\n",
    "    faces = face_classifier.detectMultiScale(img, 1.3, 5)\n",
    "    \n",
    "    if faces is ():\n",
    "        return None\n",
    "    \n",
    "    for (x, y, w, h) in faces:\n",
    "        x = x-10\n",
    "        y = y-10\n",
    "        cropped_face = img[y:y+h+50, x:x+w+50]\n",
    "        \n",
    "    return cropped_face"
   ]
  },
  {
   "cell_type": "code",
   "execution_count": 7,
   "id": "d305373c",
   "metadata": {
    "scrolled": true
   },
   "outputs": [
    {
     "name": "stdout",
     "output_type": "stream",
     "text": [
      "Face Not Found!!!\n",
      "Face Not Found!!!\n",
      "Face Not Found!!!\n",
      "Face Not Found!!!\n",
      "Face Not Found!!!\n",
      "Face Not Found!!!\n",
      "Face Not Found!!!\n",
      "Face Not Found!!!\n",
      "Face Not Found!!!\n",
      "Face Not Found!!!\n",
      "Face Not Found!!!\n",
      "Face Not Found!!!\n",
      "Face Not Found!!!\n",
      "Face Not Found!!!\n",
      "Face Not Found!!!\n",
      "Face Not Found!!!\n",
      "Face Not Found!!!\n",
      "Face Not Found!!!\n",
      "Face Not Found!!!\n",
      "Face Not Found!!!\n",
      "Face Not Found!!!\n",
      "Face Not Found!!!\n",
      "Face Not Found!!!\n",
      "Face Not Found!!!\n",
      "Face Not Found!!!\n",
      "Face Not Found!!!\n",
      "Face Not Found!!!\n",
      "Face Not Found!!!\n",
      "Face Not Found!!!\n",
      "Face Not Found!!!\n",
      "Face Not Found!!!\n",
      "Face Not Found!!!\n",
      "Face Not Found!!!\n",
      "Face Not Found!!!\n",
      "Face Not Found!!!\n",
      "Face Not Found!!!\n",
      "Face Not Found!!!\n",
      "Collection Complete\n"
     ]
    }
   ],
   "source": [
    "# initializing webcam and collecting 100 sample images\n",
    "\n",
    "cap = cv2.VideoCapture(0)\n",
    "count = 0\n",
    "\n",
    "while True:\n",
    "    \n",
    "    ret, frame = cap.read()\n",
    "    if face_extractor(frame) is not None:\n",
    "        count += 1\n",
    "        face = cv2.resize(face_extractor(frame), (400, 400))\n",
    "        \n",
    "        # saving the images\n",
    "        file_name_path = r'C:/DataScience/Notebook/Portfolio Projects/Face Recognition DL/Images/' + str(count) + '.jpg'\n",
    "        cv2.imwrite(file_name_path, face)\n",
    "        \n",
    "        # displaying the count of images\n",
    "        cv2.putText(face, str(count), (50,50), cv2.FONT_HERSHEY_COMPLEX, 1, (0, 255, 0), 2)\n",
    "        cv2.imshow('Face Cropper', face)\n",
    "    \n",
    "    else:\n",
    "        print(\"Face Not Found!!!\")\n",
    "        pass\n",
    "    \n",
    "    if cv2.waitKey(1) == 13 or count == 100:\n",
    "        break\n",
    "\n",
    "cap.release()\n",
    "cv2.destroyAllWindows()\n",
    "print(\"Collection Complete\")"
   ]
  },
  {
   "cell_type": "code",
   "execution_count": null,
   "id": "8e6e1018",
   "metadata": {},
   "outputs": [],
   "source": []
  }
 ],
 "metadata": {
  "kernelspec": {
   "display_name": "Python 3",
   "language": "python",
   "name": "python3"
  },
  "language_info": {
   "codemirror_mode": {
    "name": "ipython",
    "version": 3
   },
   "file_extension": ".py",
   "mimetype": "text/x-python",
   "name": "python",
   "nbconvert_exporter": "python",
   "pygments_lexer": "ipython3",
   "version": "3.7.6"
  }
 },
 "nbformat": 4,
 "nbformat_minor": 5
}
